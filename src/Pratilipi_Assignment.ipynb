{
  "nbformat": 4,
  "nbformat_minor": 0,
  "metadata": {
    "colab": {
      "provenance": [],
      "collapsed_sections": [
        "by4CO3tp6BYw",
        "uaeGHGuD6Eqw",
        "2c3yX2OYZXEm",
        "vikCLOvhd0qN",
        "JHexr8rGlwyE",
        "p88ZtkuxnIHt"
      ],
      "machine_shape": "hm"
    },
    "kernelspec": {
      "name": "python3",
      "display_name": "Python 3"
    },
    "language_info": {
      "name": "python"
    },
    "gpuClass": "premium"
  },
  "cells": [
    {
      "cell_type": "markdown",
      "source": [
        "# Recommendation System\n",
        "\n",
        "At Pratilipi, we call one story as pratilipi. Attached is a data set containing user_id, pratilipi_id, date. This denotes which user has read which story on a particular date. The data set is provided.\n",
        "\n",
        "1. Can you build a model using the data set and predict which pratilipis (atleast 5), each user is going to read later?\n",
        "\n",
        "2. Arrange the dataset in ascending order of time, use the first 75% of the data for training and evaluate your model on the next 25% of the data."
      ],
      "metadata": {
        "id": "o6aO_p5zoIjx"
      }
    },
    {
      "cell_type": "markdown",
      "source": [
        "## Data gathering"
      ],
      "metadata": {
        "id": "by4CO3tp6BYw"
      }
    },
    {
      "cell_type": "code",
      "execution_count": 1,
      "metadata": {
        "colab": {
          "base_uri": "https://localhost:8080/"
        },
        "id": "2PqpsoXmrE_J",
        "outputId": "09ee87fd-72b5-43b2-dc48-84adc03a87f6"
      },
      "outputs": [
        {
          "output_type": "stream",
          "name": "stdout",
          "text": [
            "/usr/local/lib/python3.7/dist-packages/gdown/cli.py:131: FutureWarning: Option `--id` was deprecated in version 4.3.1 and will be removed in 5.0. You don't need to pass it anymore to use a file ID.\n",
            "  category=FutureWarning,\n",
            "Downloading...\n",
            "From: https://drive.google.com/uc?id=1UHJDbnbndi2G9dEgVnNSrUSAXa_QDYBo\n",
            "To: /content/ds-assignment.zip\n",
            "100% 184M/184M [00:03<00:00, 50.3MB/s]\n"
          ]
        }
      ],
      "source": [
        "!gdown --id 1UHJDbnbndi2G9dEgVnNSrUSAXa_QDYBo\n",
        "!unzip -q ds-assignment.zip"
      ]
    },
    {
      "cell_type": "markdown",
      "source": [
        "## Imports"
      ],
      "metadata": {
        "id": "uaeGHGuD6Eqw"
      }
    },
    {
      "cell_type": "code",
      "source": [
        "import pickle\n",
        "import numpy as np\n",
        "import pandas as pd\n",
        "from typing import Dict, Set, List\n",
        "from sklearn.metrics.pairwise import cosine_similarity"
      ],
      "metadata": {
        "id": "MFJX27FN1Lj5"
      },
      "execution_count": 2,
      "outputs": []
    },
    {
      "cell_type": "markdown",
      "source": [
        "## Read the data"
      ],
      "metadata": {
        "id": "2c3yX2OYZXEm"
      }
    },
    {
      "cell_type": "code",
      "source": [
        "user_df = pd.read_csv('./ds-assignment/user-interactions.csv')\n",
        "user_df.head()"
      ],
      "metadata": {
        "colab": {
          "base_uri": "https://localhost:8080/",
          "height": 206
        },
        "id": "KcWDDSnk6JFI",
        "outputId": "f73a3a36-f199-4dce-e71f-641e7a03caf8"
      },
      "execution_count": 3,
      "outputs": [
        {
          "output_type": "execute_result",
          "data": {
            "text/plain": [
              "   Unnamed: 0           user_id      pratilipi_id  read_percent  \\\n",
              "0           0  5506791963854965  1377786220672965         100.0   \n",
              "1           1  5506791979071996  1377786219742624          29.0   \n",
              "2           2  5506791980256358  1377786217096334          22.0   \n",
              "3           3  5506791988747277  1377786224767880         100.0   \n",
              "4           4  5506791992372558  1377786218111595         100.0   \n",
              "\n",
              "                updated_at  \n",
              "0  2022-03-23 00:08:26.227  \n",
              "1  2022-03-23 00:08:26.220  \n",
              "2  2022-03-23 00:08:26.020  \n",
              "3  2022-03-23 00:08:25.306  \n",
              "4  2022-03-23 00:08:25.250  "
            ],
            "text/html": [
              "\n",
              "  <div id=\"df-20528bc7-9be2-485a-8c03-cfd671f8166a\">\n",
              "    <div class=\"colab-df-container\">\n",
              "      <div>\n",
              "<style scoped>\n",
              "    .dataframe tbody tr th:only-of-type {\n",
              "        vertical-align: middle;\n",
              "    }\n",
              "\n",
              "    .dataframe tbody tr th {\n",
              "        vertical-align: top;\n",
              "    }\n",
              "\n",
              "    .dataframe thead th {\n",
              "        text-align: right;\n",
              "    }\n",
              "</style>\n",
              "<table border=\"1\" class=\"dataframe\">\n",
              "  <thead>\n",
              "    <tr style=\"text-align: right;\">\n",
              "      <th></th>\n",
              "      <th>Unnamed: 0</th>\n",
              "      <th>user_id</th>\n",
              "      <th>pratilipi_id</th>\n",
              "      <th>read_percent</th>\n",
              "      <th>updated_at</th>\n",
              "    </tr>\n",
              "  </thead>\n",
              "  <tbody>\n",
              "    <tr>\n",
              "      <th>0</th>\n",
              "      <td>0</td>\n",
              "      <td>5506791963854965</td>\n",
              "      <td>1377786220672965</td>\n",
              "      <td>100.0</td>\n",
              "      <td>2022-03-23 00:08:26.227</td>\n",
              "    </tr>\n",
              "    <tr>\n",
              "      <th>1</th>\n",
              "      <td>1</td>\n",
              "      <td>5506791979071996</td>\n",
              "      <td>1377786219742624</td>\n",
              "      <td>29.0</td>\n",
              "      <td>2022-03-23 00:08:26.220</td>\n",
              "    </tr>\n",
              "    <tr>\n",
              "      <th>2</th>\n",
              "      <td>2</td>\n",
              "      <td>5506791980256358</td>\n",
              "      <td>1377786217096334</td>\n",
              "      <td>22.0</td>\n",
              "      <td>2022-03-23 00:08:26.020</td>\n",
              "    </tr>\n",
              "    <tr>\n",
              "      <th>3</th>\n",
              "      <td>3</td>\n",
              "      <td>5506791988747277</td>\n",
              "      <td>1377786224767880</td>\n",
              "      <td>100.0</td>\n",
              "      <td>2022-03-23 00:08:25.306</td>\n",
              "    </tr>\n",
              "    <tr>\n",
              "      <th>4</th>\n",
              "      <td>4</td>\n",
              "      <td>5506791992372558</td>\n",
              "      <td>1377786218111595</td>\n",
              "      <td>100.0</td>\n",
              "      <td>2022-03-23 00:08:25.250</td>\n",
              "    </tr>\n",
              "  </tbody>\n",
              "</table>\n",
              "</div>\n",
              "      <button class=\"colab-df-convert\" onclick=\"convertToInteractive('df-20528bc7-9be2-485a-8c03-cfd671f8166a')\"\n",
              "              title=\"Convert this dataframe to an interactive table.\"\n",
              "              style=\"display:none;\">\n",
              "        \n",
              "  <svg xmlns=\"http://www.w3.org/2000/svg\" height=\"24px\"viewBox=\"0 0 24 24\"\n",
              "       width=\"24px\">\n",
              "    <path d=\"M0 0h24v24H0V0z\" fill=\"none\"/>\n",
              "    <path d=\"M18.56 5.44l.94 2.06.94-2.06 2.06-.94-2.06-.94-.94-2.06-.94 2.06-2.06.94zm-11 1L8.5 8.5l.94-2.06 2.06-.94-2.06-.94L8.5 2.5l-.94 2.06-2.06.94zm10 10l.94 2.06.94-2.06 2.06-.94-2.06-.94-.94-2.06-.94 2.06-2.06.94z\"/><path d=\"M17.41 7.96l-1.37-1.37c-.4-.4-.92-.59-1.43-.59-.52 0-1.04.2-1.43.59L10.3 9.45l-7.72 7.72c-.78.78-.78 2.05 0 2.83L4 21.41c.39.39.9.59 1.41.59.51 0 1.02-.2 1.41-.59l7.78-7.78 2.81-2.81c.8-.78.8-2.07 0-2.86zM5.41 20L4 18.59l7.72-7.72 1.47 1.35L5.41 20z\"/>\n",
              "  </svg>\n",
              "      </button>\n",
              "      \n",
              "  <style>\n",
              "    .colab-df-container {\n",
              "      display:flex;\n",
              "      flex-wrap:wrap;\n",
              "      gap: 12px;\n",
              "    }\n",
              "\n",
              "    .colab-df-convert {\n",
              "      background-color: #E8F0FE;\n",
              "      border: none;\n",
              "      border-radius: 50%;\n",
              "      cursor: pointer;\n",
              "      display: none;\n",
              "      fill: #1967D2;\n",
              "      height: 32px;\n",
              "      padding: 0 0 0 0;\n",
              "      width: 32px;\n",
              "    }\n",
              "\n",
              "    .colab-df-convert:hover {\n",
              "      background-color: #E2EBFA;\n",
              "      box-shadow: 0px 1px 2px rgba(60, 64, 67, 0.3), 0px 1px 3px 1px rgba(60, 64, 67, 0.15);\n",
              "      fill: #174EA6;\n",
              "    }\n",
              "\n",
              "    [theme=dark] .colab-df-convert {\n",
              "      background-color: #3B4455;\n",
              "      fill: #D2E3FC;\n",
              "    }\n",
              "\n",
              "    [theme=dark] .colab-df-convert:hover {\n",
              "      background-color: #434B5C;\n",
              "      box-shadow: 0px 1px 3px 1px rgba(0, 0, 0, 0.15);\n",
              "      filter: drop-shadow(0px 1px 2px rgba(0, 0, 0, 0.3));\n",
              "      fill: #FFFFFF;\n",
              "    }\n",
              "  </style>\n",
              "\n",
              "      <script>\n",
              "        const buttonEl =\n",
              "          document.querySelector('#df-20528bc7-9be2-485a-8c03-cfd671f8166a button.colab-df-convert');\n",
              "        buttonEl.style.display =\n",
              "          google.colab.kernel.accessAllowed ? 'block' : 'none';\n",
              "\n",
              "        async function convertToInteractive(key) {\n",
              "          const element = document.querySelector('#df-20528bc7-9be2-485a-8c03-cfd671f8166a');\n",
              "          const dataTable =\n",
              "            await google.colab.kernel.invokeFunction('convertToInteractive',\n",
              "                                                     [key], {});\n",
              "          if (!dataTable) return;\n",
              "\n",
              "          const docLinkHtml = 'Like what you see? Visit the ' +\n",
              "            '<a target=\"_blank\" href=https://colab.research.google.com/notebooks/data_table.ipynb>data table notebook</a>'\n",
              "            + ' to learn more about interactive tables.';\n",
              "          element.innerHTML = '';\n",
              "          dataTable['output_type'] = 'display_data';\n",
              "          await google.colab.output.renderOutput(dataTable, element);\n",
              "          const docLink = document.createElement('div');\n",
              "          docLink.innerHTML = docLinkHtml;\n",
              "          element.appendChild(docLink);\n",
              "        }\n",
              "      </script>\n",
              "    </div>\n",
              "  </div>\n",
              "  "
            ]
          },
          "metadata": {},
          "execution_count": 3
        }
      ]
    },
    {
      "cell_type": "code",
      "source": [
        "print(user_df.shape)"
      ],
      "metadata": {
        "colab": {
          "base_uri": "https://localhost:8080/"
        },
        "id": "BtrSLFDucuMZ",
        "outputId": "9c63abf7-4104-48f6-824a-18b27337a924"
      },
      "execution_count": 4,
      "outputs": [
        {
          "output_type": "stream",
          "name": "stdout",
          "text": [
            "(10000000, 5)\n"
          ]
        }
      ]
    },
    {
      "cell_type": "code",
      "source": [
        "metadata_df = pd.read_csv('./ds-assignment/metadata.csv')\n",
        "metadata_df.head()"
      ],
      "metadata": {
        "colab": {
          "base_uri": "https://localhost:8080/",
          "height": 206
        },
        "id": "UVRfTNpE6Tdn",
        "outputId": "bd5c7b71-e1b2-42f1-d5dc-6e55c2190233"
      },
      "execution_count": 5,
      "outputs": [
        {
          "output_type": "execute_result",
          "data": {
            "text/plain": [
              "          author_id      pratilipi_id category_name  reading_time  \\\n",
              "0 -3418949279741297  1025741862639304   translation             0   \n",
              "1 -2270332351871840  1377786215601277   translation           171   \n",
              "2 -2270332352037261  1377786215601962   translation            92   \n",
              "3 -2270332352521845  1377786215640994   translation             0   \n",
              "4 -2270332349665658  1377786215931338   translation            47   \n",
              "\n",
              "            updated_at         published_at  \n",
              "0  2020-08-19 15:26:13  2016-09-30 10:37:04  \n",
              "1  2021-01-21 16:27:07  2018-06-11 13:17:48  \n",
              "2  2020-09-29 12:33:57  2018-06-12 04:19:12  \n",
              "3  2019-10-17 09:03:37  2019-09-26 14:58:53  \n",
              "4  2020-05-05 11:33:41  2018-11-25 12:28:23  "
            ],
            "text/html": [
              "\n",
              "  <div id=\"df-5e5fbff8-8859-454e-bbcd-0029125e3f4f\">\n",
              "    <div class=\"colab-df-container\">\n",
              "      <div>\n",
              "<style scoped>\n",
              "    .dataframe tbody tr th:only-of-type {\n",
              "        vertical-align: middle;\n",
              "    }\n",
              "\n",
              "    .dataframe tbody tr th {\n",
              "        vertical-align: top;\n",
              "    }\n",
              "\n",
              "    .dataframe thead th {\n",
              "        text-align: right;\n",
              "    }\n",
              "</style>\n",
              "<table border=\"1\" class=\"dataframe\">\n",
              "  <thead>\n",
              "    <tr style=\"text-align: right;\">\n",
              "      <th></th>\n",
              "      <th>author_id</th>\n",
              "      <th>pratilipi_id</th>\n",
              "      <th>category_name</th>\n",
              "      <th>reading_time</th>\n",
              "      <th>updated_at</th>\n",
              "      <th>published_at</th>\n",
              "    </tr>\n",
              "  </thead>\n",
              "  <tbody>\n",
              "    <tr>\n",
              "      <th>0</th>\n",
              "      <td>-3418949279741297</td>\n",
              "      <td>1025741862639304</td>\n",
              "      <td>translation</td>\n",
              "      <td>0</td>\n",
              "      <td>2020-08-19 15:26:13</td>\n",
              "      <td>2016-09-30 10:37:04</td>\n",
              "    </tr>\n",
              "    <tr>\n",
              "      <th>1</th>\n",
              "      <td>-2270332351871840</td>\n",
              "      <td>1377786215601277</td>\n",
              "      <td>translation</td>\n",
              "      <td>171</td>\n",
              "      <td>2021-01-21 16:27:07</td>\n",
              "      <td>2018-06-11 13:17:48</td>\n",
              "    </tr>\n",
              "    <tr>\n",
              "      <th>2</th>\n",
              "      <td>-2270332352037261</td>\n",
              "      <td>1377786215601962</td>\n",
              "      <td>translation</td>\n",
              "      <td>92</td>\n",
              "      <td>2020-09-29 12:33:57</td>\n",
              "      <td>2018-06-12 04:19:12</td>\n",
              "    </tr>\n",
              "    <tr>\n",
              "      <th>3</th>\n",
              "      <td>-2270332352521845</td>\n",
              "      <td>1377786215640994</td>\n",
              "      <td>translation</td>\n",
              "      <td>0</td>\n",
              "      <td>2019-10-17 09:03:37</td>\n",
              "      <td>2019-09-26 14:58:53</td>\n",
              "    </tr>\n",
              "    <tr>\n",
              "      <th>4</th>\n",
              "      <td>-2270332349665658</td>\n",
              "      <td>1377786215931338</td>\n",
              "      <td>translation</td>\n",
              "      <td>47</td>\n",
              "      <td>2020-05-05 11:33:41</td>\n",
              "      <td>2018-11-25 12:28:23</td>\n",
              "    </tr>\n",
              "  </tbody>\n",
              "</table>\n",
              "</div>\n",
              "      <button class=\"colab-df-convert\" onclick=\"convertToInteractive('df-5e5fbff8-8859-454e-bbcd-0029125e3f4f')\"\n",
              "              title=\"Convert this dataframe to an interactive table.\"\n",
              "              style=\"display:none;\">\n",
              "        \n",
              "  <svg xmlns=\"http://www.w3.org/2000/svg\" height=\"24px\"viewBox=\"0 0 24 24\"\n",
              "       width=\"24px\">\n",
              "    <path d=\"M0 0h24v24H0V0z\" fill=\"none\"/>\n",
              "    <path d=\"M18.56 5.44l.94 2.06.94-2.06 2.06-.94-2.06-.94-.94-2.06-.94 2.06-2.06.94zm-11 1L8.5 8.5l.94-2.06 2.06-.94-2.06-.94L8.5 2.5l-.94 2.06-2.06.94zm10 10l.94 2.06.94-2.06 2.06-.94-2.06-.94-.94-2.06-.94 2.06-2.06.94z\"/><path d=\"M17.41 7.96l-1.37-1.37c-.4-.4-.92-.59-1.43-.59-.52 0-1.04.2-1.43.59L10.3 9.45l-7.72 7.72c-.78.78-.78 2.05 0 2.83L4 21.41c.39.39.9.59 1.41.59.51 0 1.02-.2 1.41-.59l7.78-7.78 2.81-2.81c.8-.78.8-2.07 0-2.86zM5.41 20L4 18.59l7.72-7.72 1.47 1.35L5.41 20z\"/>\n",
              "  </svg>\n",
              "      </button>\n",
              "      \n",
              "  <style>\n",
              "    .colab-df-container {\n",
              "      display:flex;\n",
              "      flex-wrap:wrap;\n",
              "      gap: 12px;\n",
              "    }\n",
              "\n",
              "    .colab-df-convert {\n",
              "      background-color: #E8F0FE;\n",
              "      border: none;\n",
              "      border-radius: 50%;\n",
              "      cursor: pointer;\n",
              "      display: none;\n",
              "      fill: #1967D2;\n",
              "      height: 32px;\n",
              "      padding: 0 0 0 0;\n",
              "      width: 32px;\n",
              "    }\n",
              "\n",
              "    .colab-df-convert:hover {\n",
              "      background-color: #E2EBFA;\n",
              "      box-shadow: 0px 1px 2px rgba(60, 64, 67, 0.3), 0px 1px 3px 1px rgba(60, 64, 67, 0.15);\n",
              "      fill: #174EA6;\n",
              "    }\n",
              "\n",
              "    [theme=dark] .colab-df-convert {\n",
              "      background-color: #3B4455;\n",
              "      fill: #D2E3FC;\n",
              "    }\n",
              "\n",
              "    [theme=dark] .colab-df-convert:hover {\n",
              "      background-color: #434B5C;\n",
              "      box-shadow: 0px 1px 3px 1px rgba(0, 0, 0, 0.15);\n",
              "      filter: drop-shadow(0px 1px 2px rgba(0, 0, 0, 0.3));\n",
              "      fill: #FFFFFF;\n",
              "    }\n",
              "  </style>\n",
              "\n",
              "      <script>\n",
              "        const buttonEl =\n",
              "          document.querySelector('#df-5e5fbff8-8859-454e-bbcd-0029125e3f4f button.colab-df-convert');\n",
              "        buttonEl.style.display =\n",
              "          google.colab.kernel.accessAllowed ? 'block' : 'none';\n",
              "\n",
              "        async function convertToInteractive(key) {\n",
              "          const element = document.querySelector('#df-5e5fbff8-8859-454e-bbcd-0029125e3f4f');\n",
              "          const dataTable =\n",
              "            await google.colab.kernel.invokeFunction('convertToInteractive',\n",
              "                                                     [key], {});\n",
              "          if (!dataTable) return;\n",
              "\n",
              "          const docLinkHtml = 'Like what you see? Visit the ' +\n",
              "            '<a target=\"_blank\" href=https://colab.research.google.com/notebooks/data_table.ipynb>data table notebook</a>'\n",
              "            + ' to learn more about interactive tables.';\n",
              "          element.innerHTML = '';\n",
              "          dataTable['output_type'] = 'display_data';\n",
              "          await google.colab.output.renderOutput(dataTable, element);\n",
              "          const docLink = document.createElement('div');\n",
              "          docLink.innerHTML = docLinkHtml;\n",
              "          element.appendChild(docLink);\n",
              "        }\n",
              "      </script>\n",
              "    </div>\n",
              "  </div>\n",
              "  "
            ]
          },
          "metadata": {},
          "execution_count": 5
        }
      ]
    },
    {
      "cell_type": "code",
      "source": [
        "print(metadata_df.shape)"
      ],
      "metadata": {
        "colab": {
          "base_uri": "https://localhost:8080/"
        },
        "id": "rldpBHVfXQLL",
        "outputId": "46cabd20-8311-4883-c68c-c0b33a0832b9"
      },
      "execution_count": 6,
      "outputs": [
        {
          "output_type": "stream",
          "name": "stdout",
          "text": [
            "(954501, 6)\n"
          ]
        }
      ]
    },
    {
      "cell_type": "markdown",
      "source": [
        "### Check the Detail information of the dataframe"
      ],
      "metadata": {
        "id": "XH65Wma9dPR5"
      }
    },
    {
      "cell_type": "code",
      "source": [
        "user_df.info()"
      ],
      "metadata": {
        "colab": {
          "base_uri": "https://localhost:8080/"
        },
        "id": "TZFM1ECkdKdb",
        "outputId": "2b8a33e7-8910-4f04-eff4-5f76dba4328e"
      },
      "execution_count": 7,
      "outputs": [
        {
          "output_type": "stream",
          "name": "stdout",
          "text": [
            "<class 'pandas.core.frame.DataFrame'>\n",
            "RangeIndex: 10000000 entries, 0 to 9999999\n",
            "Data columns (total 5 columns):\n",
            " #   Column        Dtype  \n",
            "---  ------        -----  \n",
            " 0   Unnamed: 0    int64  \n",
            " 1   user_id       int64  \n",
            " 2   pratilipi_id  int64  \n",
            " 3   read_percent  float64\n",
            " 4   updated_at    object \n",
            "dtypes: float64(1), int64(3), object(1)\n",
            "memory usage: 381.5+ MB\n"
          ]
        }
      ]
    },
    {
      "cell_type": "code",
      "source": [
        "metadata_df.info()"
      ],
      "metadata": {
        "colab": {
          "base_uri": "https://localhost:8080/"
        },
        "id": "zt5-bQB3dV3e",
        "outputId": "609940aa-3133-4644-e0da-bd60067f3085"
      },
      "execution_count": 8,
      "outputs": [
        {
          "output_type": "stream",
          "name": "stdout",
          "text": [
            "<class 'pandas.core.frame.DataFrame'>\n",
            "RangeIndex: 954501 entries, 0 to 954500\n",
            "Data columns (total 6 columns):\n",
            " #   Column         Non-Null Count   Dtype \n",
            "---  ------         --------------   ----- \n",
            " 0   author_id      954501 non-null  int64 \n",
            " 1   pratilipi_id   954501 non-null  int64 \n",
            " 2   category_name  954501 non-null  object\n",
            " 3   reading_time   954501 non-null  int64 \n",
            " 4   updated_at     954501 non-null  object\n",
            " 5   published_at   954494 non-null  object\n",
            "dtypes: int64(3), object(3)\n",
            "memory usage: 43.7+ MB\n"
          ]
        }
      ]
    },
    {
      "cell_type": "markdown",
      "source": [
        "### Describe the entire dataset"
      ],
      "metadata": {
        "id": "53oR2NPVdcax"
      }
    },
    {
      "cell_type": "code",
      "source": [
        "user_df.describe()"
      ],
      "metadata": {
        "colab": {
          "base_uri": "https://localhost:8080/",
          "height": 300
        },
        "id": "tzdIBQC1dYbH",
        "outputId": "edf85d79-5b24-4eca-d43c-b469ed640e3e"
      },
      "execution_count": 9,
      "outputs": [
        {
          "output_type": "execute_result",
          "data": {
            "text/plain": [
              "         Unnamed: 0       user_id  pratilipi_id  read_percent\n",
              "count  1.000000e+07  1.000000e+07  1.000000e+07  1.000000e+07\n",
              "mean   5.000000e+06  5.489158e+15  1.369415e+15  9.325429e+01\n",
              "std    2.886751e+06  1.605679e+14  1.221880e+14  2.163297e+01\n",
              "min    0.000000e+00  3.255388e+15 -5.375941e+15  0.000000e+00\n",
              "25%    2.500000e+06  5.506792e+15  1.377786e+15  1.000000e+02\n",
              "50%    5.000000e+06  5.506792e+15  1.377786e+15  1.000000e+02\n",
              "75%    7.499999e+06  5.506792e+15  1.377786e+15  1.000000e+02\n",
              "max    9.999999e+06  5.506792e+15  1.377786e+15  2.400000e+03"
            ],
            "text/html": [
              "\n",
              "  <div id=\"df-9cd3c23d-3c9a-4fee-9b09-9ad159bb7599\">\n",
              "    <div class=\"colab-df-container\">\n",
              "      <div>\n",
              "<style scoped>\n",
              "    .dataframe tbody tr th:only-of-type {\n",
              "        vertical-align: middle;\n",
              "    }\n",
              "\n",
              "    .dataframe tbody tr th {\n",
              "        vertical-align: top;\n",
              "    }\n",
              "\n",
              "    .dataframe thead th {\n",
              "        text-align: right;\n",
              "    }\n",
              "</style>\n",
              "<table border=\"1\" class=\"dataframe\">\n",
              "  <thead>\n",
              "    <tr style=\"text-align: right;\">\n",
              "      <th></th>\n",
              "      <th>Unnamed: 0</th>\n",
              "      <th>user_id</th>\n",
              "      <th>pratilipi_id</th>\n",
              "      <th>read_percent</th>\n",
              "    </tr>\n",
              "  </thead>\n",
              "  <tbody>\n",
              "    <tr>\n",
              "      <th>count</th>\n",
              "      <td>1.000000e+07</td>\n",
              "      <td>1.000000e+07</td>\n",
              "      <td>1.000000e+07</td>\n",
              "      <td>1.000000e+07</td>\n",
              "    </tr>\n",
              "    <tr>\n",
              "      <th>mean</th>\n",
              "      <td>5.000000e+06</td>\n",
              "      <td>5.489158e+15</td>\n",
              "      <td>1.369415e+15</td>\n",
              "      <td>9.325429e+01</td>\n",
              "    </tr>\n",
              "    <tr>\n",
              "      <th>std</th>\n",
              "      <td>2.886751e+06</td>\n",
              "      <td>1.605679e+14</td>\n",
              "      <td>1.221880e+14</td>\n",
              "      <td>2.163297e+01</td>\n",
              "    </tr>\n",
              "    <tr>\n",
              "      <th>min</th>\n",
              "      <td>0.000000e+00</td>\n",
              "      <td>3.255388e+15</td>\n",
              "      <td>-5.375941e+15</td>\n",
              "      <td>0.000000e+00</td>\n",
              "    </tr>\n",
              "    <tr>\n",
              "      <th>25%</th>\n",
              "      <td>2.500000e+06</td>\n",
              "      <td>5.506792e+15</td>\n",
              "      <td>1.377786e+15</td>\n",
              "      <td>1.000000e+02</td>\n",
              "    </tr>\n",
              "    <tr>\n",
              "      <th>50%</th>\n",
              "      <td>5.000000e+06</td>\n",
              "      <td>5.506792e+15</td>\n",
              "      <td>1.377786e+15</td>\n",
              "      <td>1.000000e+02</td>\n",
              "    </tr>\n",
              "    <tr>\n",
              "      <th>75%</th>\n",
              "      <td>7.499999e+06</td>\n",
              "      <td>5.506792e+15</td>\n",
              "      <td>1.377786e+15</td>\n",
              "      <td>1.000000e+02</td>\n",
              "    </tr>\n",
              "    <tr>\n",
              "      <th>max</th>\n",
              "      <td>9.999999e+06</td>\n",
              "      <td>5.506792e+15</td>\n",
              "      <td>1.377786e+15</td>\n",
              "      <td>2.400000e+03</td>\n",
              "    </tr>\n",
              "  </tbody>\n",
              "</table>\n",
              "</div>\n",
              "      <button class=\"colab-df-convert\" onclick=\"convertToInteractive('df-9cd3c23d-3c9a-4fee-9b09-9ad159bb7599')\"\n",
              "              title=\"Convert this dataframe to an interactive table.\"\n",
              "              style=\"display:none;\">\n",
              "        \n",
              "  <svg xmlns=\"http://www.w3.org/2000/svg\" height=\"24px\"viewBox=\"0 0 24 24\"\n",
              "       width=\"24px\">\n",
              "    <path d=\"M0 0h24v24H0V0z\" fill=\"none\"/>\n",
              "    <path d=\"M18.56 5.44l.94 2.06.94-2.06 2.06-.94-2.06-.94-.94-2.06-.94 2.06-2.06.94zm-11 1L8.5 8.5l.94-2.06 2.06-.94-2.06-.94L8.5 2.5l-.94 2.06-2.06.94zm10 10l.94 2.06.94-2.06 2.06-.94-2.06-.94-.94-2.06-.94 2.06-2.06.94z\"/><path d=\"M17.41 7.96l-1.37-1.37c-.4-.4-.92-.59-1.43-.59-.52 0-1.04.2-1.43.59L10.3 9.45l-7.72 7.72c-.78.78-.78 2.05 0 2.83L4 21.41c.39.39.9.59 1.41.59.51 0 1.02-.2 1.41-.59l7.78-7.78 2.81-2.81c.8-.78.8-2.07 0-2.86zM5.41 20L4 18.59l7.72-7.72 1.47 1.35L5.41 20z\"/>\n",
              "  </svg>\n",
              "      </button>\n",
              "      \n",
              "  <style>\n",
              "    .colab-df-container {\n",
              "      display:flex;\n",
              "      flex-wrap:wrap;\n",
              "      gap: 12px;\n",
              "    }\n",
              "\n",
              "    .colab-df-convert {\n",
              "      background-color: #E8F0FE;\n",
              "      border: none;\n",
              "      border-radius: 50%;\n",
              "      cursor: pointer;\n",
              "      display: none;\n",
              "      fill: #1967D2;\n",
              "      height: 32px;\n",
              "      padding: 0 0 0 0;\n",
              "      width: 32px;\n",
              "    }\n",
              "\n",
              "    .colab-df-convert:hover {\n",
              "      background-color: #E2EBFA;\n",
              "      box-shadow: 0px 1px 2px rgba(60, 64, 67, 0.3), 0px 1px 3px 1px rgba(60, 64, 67, 0.15);\n",
              "      fill: #174EA6;\n",
              "    }\n",
              "\n",
              "    [theme=dark] .colab-df-convert {\n",
              "      background-color: #3B4455;\n",
              "      fill: #D2E3FC;\n",
              "    }\n",
              "\n",
              "    [theme=dark] .colab-df-convert:hover {\n",
              "      background-color: #434B5C;\n",
              "      box-shadow: 0px 1px 3px 1px rgba(0, 0, 0, 0.15);\n",
              "      filter: drop-shadow(0px 1px 2px rgba(0, 0, 0, 0.3));\n",
              "      fill: #FFFFFF;\n",
              "    }\n",
              "  </style>\n",
              "\n",
              "      <script>\n",
              "        const buttonEl =\n",
              "          document.querySelector('#df-9cd3c23d-3c9a-4fee-9b09-9ad159bb7599 button.colab-df-convert');\n",
              "        buttonEl.style.display =\n",
              "          google.colab.kernel.accessAllowed ? 'block' : 'none';\n",
              "\n",
              "        async function convertToInteractive(key) {\n",
              "          const element = document.querySelector('#df-9cd3c23d-3c9a-4fee-9b09-9ad159bb7599');\n",
              "          const dataTable =\n",
              "            await google.colab.kernel.invokeFunction('convertToInteractive',\n",
              "                                                     [key], {});\n",
              "          if (!dataTable) return;\n",
              "\n",
              "          const docLinkHtml = 'Like what you see? Visit the ' +\n",
              "            '<a target=\"_blank\" href=https://colab.research.google.com/notebooks/data_table.ipynb>data table notebook</a>'\n",
              "            + ' to learn more about interactive tables.';\n",
              "          element.innerHTML = '';\n",
              "          dataTable['output_type'] = 'display_data';\n",
              "          await google.colab.output.renderOutput(dataTable, element);\n",
              "          const docLink = document.createElement('div');\n",
              "          docLink.innerHTML = docLinkHtml;\n",
              "          element.appendChild(docLink);\n",
              "        }\n",
              "      </script>\n",
              "    </div>\n",
              "  </div>\n",
              "  "
            ]
          },
          "metadata": {},
          "execution_count": 9
        }
      ]
    },
    {
      "cell_type": "code",
      "source": [
        "metadata_df.describe()"
      ],
      "metadata": {
        "colab": {
          "base_uri": "https://localhost:8080/",
          "height": 300
        },
        "id": "OVnUhnuxdhfR",
        "outputId": "04bc06f7-ac6a-470a-c210-eed1424574c6"
      },
      "execution_count": 10,
      "outputs": [
        {
          "output_type": "execute_result",
          "data": {
            "text/plain": [
              "          author_id  pratilipi_id   reading_time\n",
              "count  9.545010e+05  9.545010e+05  954501.000000\n",
              "mean  -2.379597e+15  1.368571e+15     351.979334\n",
              "std    3.922020e+14  1.161105e+14     513.959547\n",
              "min   -9.070332e+15 -8.734611e+14       0.000000\n",
              "25%   -2.270332e+15  1.377786e+15     111.000000\n",
              "50%   -2.270332e+15  1.377786e+15     256.000000\n",
              "75%   -2.270332e+15  1.377786e+15     461.000000\n",
              "max   -2.270332e+15  1.377786e+15   78983.000000"
            ],
            "text/html": [
              "\n",
              "  <div id=\"df-6d32f67c-bce3-485f-bc62-20f1e7de34cf\">\n",
              "    <div class=\"colab-df-container\">\n",
              "      <div>\n",
              "<style scoped>\n",
              "    .dataframe tbody tr th:only-of-type {\n",
              "        vertical-align: middle;\n",
              "    }\n",
              "\n",
              "    .dataframe tbody tr th {\n",
              "        vertical-align: top;\n",
              "    }\n",
              "\n",
              "    .dataframe thead th {\n",
              "        text-align: right;\n",
              "    }\n",
              "</style>\n",
              "<table border=\"1\" class=\"dataframe\">\n",
              "  <thead>\n",
              "    <tr style=\"text-align: right;\">\n",
              "      <th></th>\n",
              "      <th>author_id</th>\n",
              "      <th>pratilipi_id</th>\n",
              "      <th>reading_time</th>\n",
              "    </tr>\n",
              "  </thead>\n",
              "  <tbody>\n",
              "    <tr>\n",
              "      <th>count</th>\n",
              "      <td>9.545010e+05</td>\n",
              "      <td>9.545010e+05</td>\n",
              "      <td>954501.000000</td>\n",
              "    </tr>\n",
              "    <tr>\n",
              "      <th>mean</th>\n",
              "      <td>-2.379597e+15</td>\n",
              "      <td>1.368571e+15</td>\n",
              "      <td>351.979334</td>\n",
              "    </tr>\n",
              "    <tr>\n",
              "      <th>std</th>\n",
              "      <td>3.922020e+14</td>\n",
              "      <td>1.161105e+14</td>\n",
              "      <td>513.959547</td>\n",
              "    </tr>\n",
              "    <tr>\n",
              "      <th>min</th>\n",
              "      <td>-9.070332e+15</td>\n",
              "      <td>-8.734611e+14</td>\n",
              "      <td>0.000000</td>\n",
              "    </tr>\n",
              "    <tr>\n",
              "      <th>25%</th>\n",
              "      <td>-2.270332e+15</td>\n",
              "      <td>1.377786e+15</td>\n",
              "      <td>111.000000</td>\n",
              "    </tr>\n",
              "    <tr>\n",
              "      <th>50%</th>\n",
              "      <td>-2.270332e+15</td>\n",
              "      <td>1.377786e+15</td>\n",
              "      <td>256.000000</td>\n",
              "    </tr>\n",
              "    <tr>\n",
              "      <th>75%</th>\n",
              "      <td>-2.270332e+15</td>\n",
              "      <td>1.377786e+15</td>\n",
              "      <td>461.000000</td>\n",
              "    </tr>\n",
              "    <tr>\n",
              "      <th>max</th>\n",
              "      <td>-2.270332e+15</td>\n",
              "      <td>1.377786e+15</td>\n",
              "      <td>78983.000000</td>\n",
              "    </tr>\n",
              "  </tbody>\n",
              "</table>\n",
              "</div>\n",
              "      <button class=\"colab-df-convert\" onclick=\"convertToInteractive('df-6d32f67c-bce3-485f-bc62-20f1e7de34cf')\"\n",
              "              title=\"Convert this dataframe to an interactive table.\"\n",
              "              style=\"display:none;\">\n",
              "        \n",
              "  <svg xmlns=\"http://www.w3.org/2000/svg\" height=\"24px\"viewBox=\"0 0 24 24\"\n",
              "       width=\"24px\">\n",
              "    <path d=\"M0 0h24v24H0V0z\" fill=\"none\"/>\n",
              "    <path d=\"M18.56 5.44l.94 2.06.94-2.06 2.06-.94-2.06-.94-.94-2.06-.94 2.06-2.06.94zm-11 1L8.5 8.5l.94-2.06 2.06-.94-2.06-.94L8.5 2.5l-.94 2.06-2.06.94zm10 10l.94 2.06.94-2.06 2.06-.94-2.06-.94-.94-2.06-.94 2.06-2.06.94z\"/><path d=\"M17.41 7.96l-1.37-1.37c-.4-.4-.92-.59-1.43-.59-.52 0-1.04.2-1.43.59L10.3 9.45l-7.72 7.72c-.78.78-.78 2.05 0 2.83L4 21.41c.39.39.9.59 1.41.59.51 0 1.02-.2 1.41-.59l7.78-7.78 2.81-2.81c.8-.78.8-2.07 0-2.86zM5.41 20L4 18.59l7.72-7.72 1.47 1.35L5.41 20z\"/>\n",
              "  </svg>\n",
              "      </button>\n",
              "      \n",
              "  <style>\n",
              "    .colab-df-container {\n",
              "      display:flex;\n",
              "      flex-wrap:wrap;\n",
              "      gap: 12px;\n",
              "    }\n",
              "\n",
              "    .colab-df-convert {\n",
              "      background-color: #E8F0FE;\n",
              "      border: none;\n",
              "      border-radius: 50%;\n",
              "      cursor: pointer;\n",
              "      display: none;\n",
              "      fill: #1967D2;\n",
              "      height: 32px;\n",
              "      padding: 0 0 0 0;\n",
              "      width: 32px;\n",
              "    }\n",
              "\n",
              "    .colab-df-convert:hover {\n",
              "      background-color: #E2EBFA;\n",
              "      box-shadow: 0px 1px 2px rgba(60, 64, 67, 0.3), 0px 1px 3px 1px rgba(60, 64, 67, 0.15);\n",
              "      fill: #174EA6;\n",
              "    }\n",
              "\n",
              "    [theme=dark] .colab-df-convert {\n",
              "      background-color: #3B4455;\n",
              "      fill: #D2E3FC;\n",
              "    }\n",
              "\n",
              "    [theme=dark] .colab-df-convert:hover {\n",
              "      background-color: #434B5C;\n",
              "      box-shadow: 0px 1px 3px 1px rgba(0, 0, 0, 0.15);\n",
              "      filter: drop-shadow(0px 1px 2px rgba(0, 0, 0, 0.3));\n",
              "      fill: #FFFFFF;\n",
              "    }\n",
              "  </style>\n",
              "\n",
              "      <script>\n",
              "        const buttonEl =\n",
              "          document.querySelector('#df-6d32f67c-bce3-485f-bc62-20f1e7de34cf button.colab-df-convert');\n",
              "        buttonEl.style.display =\n",
              "          google.colab.kernel.accessAllowed ? 'block' : 'none';\n",
              "\n",
              "        async function convertToInteractive(key) {\n",
              "          const element = document.querySelector('#df-6d32f67c-bce3-485f-bc62-20f1e7de34cf');\n",
              "          const dataTable =\n",
              "            await google.colab.kernel.invokeFunction('convertToInteractive',\n",
              "                                                     [key], {});\n",
              "          if (!dataTable) return;\n",
              "\n",
              "          const docLinkHtml = 'Like what you see? Visit the ' +\n",
              "            '<a target=\"_blank\" href=https://colab.research.google.com/notebooks/data_table.ipynb>data table notebook</a>'\n",
              "            + ' to learn more about interactive tables.';\n",
              "          element.innerHTML = '';\n",
              "          dataTable['output_type'] = 'display_data';\n",
              "          await google.colab.output.renderOutput(dataTable, element);\n",
              "          const docLink = document.createElement('div');\n",
              "          docLink.innerHTML = docLinkHtml;\n",
              "          element.appendChild(docLink);\n",
              "        }\n",
              "      </script>\n",
              "    </div>\n",
              "  </div>\n",
              "  "
            ]
          },
          "metadata": {},
          "execution_count": 10
        }
      ]
    },
    {
      "cell_type": "markdown",
      "source": [
        "## Data Cleaning"
      ],
      "metadata": {
        "id": "vikCLOvhd0qN"
      }
    },
    {
      "cell_type": "markdown",
      "source": [
        "### Check `null` values"
      ],
      "metadata": {
        "id": "6E6fHywNlW7F"
      }
    },
    {
      "cell_type": "code",
      "source": [
        "user_df.isnull().sum()"
      ],
      "metadata": {
        "colab": {
          "base_uri": "https://localhost:8080/"
        },
        "id": "CE7hebDddpHY",
        "outputId": "0311d7b8-27da-493a-fb3e-d1b28d80fe6c"
      },
      "execution_count": 11,
      "outputs": [
        {
          "output_type": "execute_result",
          "data": {
            "text/plain": [
              "Unnamed: 0      0\n",
              "user_id         0\n",
              "pratilipi_id    0\n",
              "read_percent    0\n",
              "updated_at      0\n",
              "dtype: int64"
            ]
          },
          "metadata": {},
          "execution_count": 11
        }
      ]
    },
    {
      "cell_type": "code",
      "source": [
        "metadata_df.isnull().sum()"
      ],
      "metadata": {
        "colab": {
          "base_uri": "https://localhost:8080/"
        },
        "id": "Xh6J2FRoigpc",
        "outputId": "ad471eef-45d9-43fc-ece1-580934a77daf"
      },
      "execution_count": 12,
      "outputs": [
        {
          "output_type": "execute_result",
          "data": {
            "text/plain": [
              "author_id        0\n",
              "pratilipi_id     0\n",
              "category_name    0\n",
              "reading_time     0\n",
              "updated_at       0\n",
              "published_at     7\n",
              "dtype: int64"
            ]
          },
          "metadata": {},
          "execution_count": 12
        }
      ]
    },
    {
      "cell_type": "code",
      "source": [
        "metadata_df = metadata_df.dropna()"
      ],
      "metadata": {
        "id": "546spPSgllUj"
      },
      "execution_count": 13,
      "outputs": []
    },
    {
      "cell_type": "code",
      "source": [
        "metadata_df.isnull().sum()"
      ],
      "metadata": {
        "colab": {
          "base_uri": "https://localhost:8080/"
        },
        "id": "rYmQyGuPlrG9",
        "outputId": "8b1e2fea-f724-4268-f7f4-5308e5526a95"
      },
      "execution_count": 14,
      "outputs": [
        {
          "output_type": "execute_result",
          "data": {
            "text/plain": [
              "author_id        0\n",
              "pratilipi_id     0\n",
              "category_name    0\n",
              "reading_time     0\n",
              "updated_at       0\n",
              "published_at     0\n",
              "dtype: int64"
            ]
          },
          "metadata": {},
          "execution_count": 14
        }
      ]
    },
    {
      "cell_type": "markdown",
      "source": [
        "### Check for duplicate rows"
      ],
      "metadata": {
        "id": "dGkUVA1glcbF"
      }
    },
    {
      "cell_type": "code",
      "source": [
        "def get_duplicate_rows(dataFrame):\n",
        "    duplicate_rows = dataFrame[dataFrame.duplicated()]\n",
        "    print(duplicate_rows.shape[0])"
      ],
      "metadata": {
        "id": "6ouEeW_ljBa_"
      },
      "execution_count": 15,
      "outputs": []
    },
    {
      "cell_type": "code",
      "source": [
        "get_duplicate_rows(user_df)\n",
        "get_duplicate_rows(metadata_df)"
      ],
      "metadata": {
        "colab": {
          "base_uri": "https://localhost:8080/"
        },
        "id": "Y2GwIhzvkasU",
        "outputId": "9974083b-ceae-4203-e85d-95065a4c62d0"
      },
      "execution_count": 16,
      "outputs": [
        {
          "output_type": "stream",
          "name": "stdout",
          "text": [
            "0\n",
            "0\n"
          ]
        }
      ]
    },
    {
      "cell_type": "markdown",
      "source": [
        "## Data EDA"
      ],
      "metadata": {
        "id": "JHexr8rGlwyE"
      }
    },
    {
      "cell_type": "markdown",
      "source": [
        "### Getting all the common categories"
      ],
      "metadata": {
        "id": "o1L2h4Rblz8Z"
      }
    },
    {
      "cell_type": "code",
      "source": [
        "metadata_df[\"category_name\"].value_counts()"
      ],
      "metadata": {
        "colab": {
          "base_uri": "https://localhost:8080/"
        },
        "id": "VgGsmNUWkStd",
        "outputId": "24d74312-2a1e-422d-f3ae-dba6552a61a3"
      },
      "execution_count": 17,
      "outputs": [
        {
          "output_type": "execute_result",
          "data": {
            "text/plain": [
              "romance                      193218\n",
              "shortstories                 102096\n",
              "social                        73919\n",
              "suspense                      64041\n",
              "family                        58515\n",
              "novels                        53584\n",
              "life                          51356\n",
              "moral-inspiring               47421\n",
              "women                         37167\n",
              "horror                        28506\n",
              "entertainment                 23362\n",
              "action-and-adventure          21589\n",
              "experiences-and-memories      20275\n",
              "webseries                     16227\n",
              "relegion-and-spiritual        15476\n",
              "comedy                        14893\n",
              "Pratilipi-kalamkar-samman     13237\n",
              "mythology                     12323\n",
              "children                      10196\n",
              "Indiawale                      9674\n",
              "Pratilipi-Awards-Hindi         9342\n",
              "fantasy                        9324\n",
              "swahindi2                      7853\n",
              "drama                          7387\n",
              "crime                          7151\n",
              "politics                       5810\n",
              "translation                    4250\n",
              "short-story-challenge          3534\n",
              "murder-mystery                 3491\n",
              "Serieswriting                  3297\n",
              "Horror-Marathon                2973\n",
              "crime-lekhan                   2966\n",
              "health-and-wellness            2874\n",
              "science-fiction                2813\n",
              "pratilipi-kids                 2676\n",
              "detective                      2229\n",
              "premkamahina                   1971\n",
              "krishi-jeevan                  1751\n",
              "The-Chat-Story                 1635\n",
              "Parytan                        1462\n",
              "pravasi-sahitya                 864\n",
              "cyber-crime-fiction             487\n",
              "Radio-Fiction                   470\n",
              "Rashtriya                       446\n",
              "erotica                         363\n",
              "Name: category_name, dtype: int64"
            ]
          },
          "metadata": {},
          "execution_count": 17
        }
      ]
    },
    {
      "cell_type": "markdown",
      "source": [
        "### Read percent  "
      ],
      "metadata": {
        "id": "v5Wbi2VGnGLW"
      }
    },
    {
      "cell_type": "code",
      "source": [
        "user_df[\"read_percent\"].value_counts()"
      ],
      "metadata": {
        "colab": {
          "base_uri": "https://localhost:8080/"
        },
        "id": "vQKaBVGQkYSo",
        "outputId": "6d6396f0-89ac-4954-a2ec-7ac5fd8ab8b0"
      },
      "execution_count": 18,
      "outputs": [
        {
          "output_type": "execute_result",
          "data": {
            "text/plain": [
              "100.000000    8702791\n",
              "99.000000      221116\n",
              "50.000000       66502\n",
              "34.000000       49956\n",
              "25.000000       45628\n",
              "               ...   \n",
              "4.127959            1\n",
              "81.238440           1\n",
              "1.893793            1\n",
              "4.924527            1\n",
              "76.917840           1\n",
              "Name: read_percent, Length: 24772, dtype: int64"
            ]
          },
          "metadata": {},
          "execution_count": 18
        }
      ]
    },
    {
      "cell_type": "markdown",
      "source": [
        "## Data preprocessing"
      ],
      "metadata": {
        "id": "-6zs6CKFrd1k"
      }
    },
    {
      "cell_type": "markdown",
      "source": [
        "### Convert `float` type to `int`"
      ],
      "metadata": {
        "id": "j4h9W9rjrrZb"
      }
    },
    {
      "cell_type": "code",
      "source": [
        "user_df['read_percent'] = user_df['read_percent'].apply(lambda x: int(x))"
      ],
      "metadata": {
        "id": "IkKIsAIznkZI"
      },
      "execution_count": 19,
      "outputs": []
    },
    {
      "cell_type": "code",
      "source": [
        "user_df.drop(user_df[user_df[\"read_percent\"] > 100].index, inplace=True) # removing rows which have read_percent > 100\n",
        "user_df.drop(user_df[user_df[\"read_percent\"] < 100].index, inplace=True) # removing rows which have read_percent < 100"
      ],
      "metadata": {
        "id": "JyKhX1h4sVls"
      },
      "execution_count": 20,
      "outputs": []
    },
    {
      "cell_type": "code",
      "source": [
        "user_df.sort_values('updated_at', ascending=False, inplace=True) # Sort the dataframe according to `updated_at`"
      ],
      "metadata": {
        "id": "yCsvP1iXs3DN"
      },
      "execution_count": 21,
      "outputs": []
    },
    {
      "cell_type": "markdown",
      "source": [
        "## Split the data"
      ],
      "metadata": {
        "id": "a1mmmqZ_wNsy"
      }
    },
    {
      "cell_type": "code",
      "source": [
        "test_split=0.25\n",
        "test, train = np.split(user_df, [int(test_split * len(user_df))])\n",
        "\n",
        "test.to_csv('./test.csv', sep=',', encoding='utf-8')\n",
        "train.to_csv('./train.csv', sep=',', encoding='utf-8')"
      ],
      "metadata": {
        "id": "P9Fm2zdBs_9N"
      },
      "execution_count": 22,
      "outputs": []
    },
    {
      "cell_type": "markdown",
      "source": [
        "### Read the test and train data"
      ],
      "metadata": {
        "id": "Rsqv97gyzLUG"
      }
    },
    {
      "cell_type": "code",
      "source": [
        "train_df = pd.read_csv('./train.csv')\n",
        "print(train_df.shape)\n",
        "\n",
        "test_df = pd.read_csv('./test.csv')\n",
        "print(test_df.shape)"
      ],
      "metadata": {
        "colab": {
          "base_uri": "https://localhost:8080/"
        },
        "id": "LfNyaV6pzIbd",
        "outputId": "db569f03-9303-4986-8b8d-c2b45fad393e"
      },
      "execution_count": 23,
      "outputs": [
        {
          "output_type": "stream",
          "name": "stdout",
          "text": [
            "(6527094, 6)\n",
            "(2175697, 6)\n"
          ]
        }
      ]
    },
    {
      "cell_type": "markdown",
      "source": [
        "## Get unique users and number of the unique users"
      ],
      "metadata": {
        "id": "7kNy6Jolno9S"
      }
    },
    {
      "cell_type": "code",
      "source": [
        "unique_users = set(train['user_id'])\n",
        "unique_no_users = len(train['user_id'])"
      ],
      "metadata": {
        "id": "i8igXdmQzVxV"
      },
      "execution_count": 24,
      "outputs": []
    },
    {
      "cell_type": "markdown",
      "source": [
        "## Get unique pratilipi and number of the unique pratilipi"
      ],
      "metadata": {
        "id": "KpIBebr2nyGH"
      }
    },
    {
      "cell_type": "code",
      "source": [
        "unique_pratilipi = set(train['pratilipi_id'])\n",
        "unique_no_pratilipi = len(train['pratilipi_id'])"
      ],
      "metadata": {
        "id": "icaVtKa9nsza"
      },
      "execution_count": 25,
      "outputs": []
    },
    {
      "cell_type": "code",
      "source": [
        "def create_dict(unique_features: Set, dict_one: Dict, dict_two: Dict):\n",
        "    index = 0\n",
        "    for unique_feature in unique_features:\n",
        "        dict_one[unique_feature] = index\n",
        "        dict_two[index] = unique_feature\n",
        "        index += 1\n",
        "    return dict_one, dict_two"
      ],
      "metadata": {
        "id": "s7PZO3agn9i0"
      },
      "execution_count": 26,
      "outputs": []
    },
    {
      "cell_type": "code",
      "source": [
        "user_to_index = {}\n",
        "index_to_user = {}\n",
        "\n",
        "user_to_index, index_to_user = create_dict(unique_users, user_to_index, index_to_user) \n",
        "\n",
        "pratilipi_to_index = {}\n",
        "index_to_pratilipi = {}\n",
        "\n",
        "pratilipi_to_index, index_to_pratilipi = create_dict(unique_pratilipi, pratilipi_to_index, index_to_pratilipi) "
      ],
      "metadata": {
        "id": "d1N2iu_cn5cA"
      },
      "execution_count": 27,
      "outputs": []
    },
    {
      "cell_type": "markdown",
      "source": [
        "## Create pivot table"
      ],
      "metadata": {
        "id": "MxruNS1SqoGO"
      }
    },
    {
      "cell_type": "code",
      "source": [
        "user_to_read_pratilipis = {}\n",
        "users = train['user_id']\n",
        "for user in unique_users:\n",
        "    user_to_read_pratilipis[user] = []\n",
        "\n",
        "user_len = len(users)\n",
        "count = 0\n",
        "\n",
        "for train_index, train_row in train.iterrows():\n",
        "    key = train_row['user_id']\n",
        "    val = (train_row['pratilipi_id'], train_row['read_percent'])\n",
        "    user_to_read_pratilipis[key].append(val)\n",
        "    count += 1"
      ],
      "metadata": {
        "id": "_3F74cMvqqQc"
      },
      "execution_count": 28,
      "outputs": []
    },
    {
      "cell_type": "code",
      "source": [
        "count = 0\n",
        "with open('./pivot.pickle', \"wb\") as pivot_file:\n",
        "    for user in unique_users:\n",
        "        csv_row = [-1 for x in range(unique_no_pratilipi)]\n",
        "        pratilipis_read = user_to_read_pratilipis[user]\n",
        "        if pratilipis_read is None or len(pratilipis_read) == 0:\n",
        "            pass\n",
        "        else:\n",
        "            for pratilipi_and_read_percent in pratilipis_read:\n",
        "                col_index = pratilipi_to_index[pratilipi_and_read_percent[0]]\n",
        "                csv_row[col_index] = pratilipi_and_read_percent[1]\n",
        "        pickle.dump(np.array(csv_row), pivot_file)\n",
        "        count += 1"
      ],
      "metadata": {
        "id": "W6r-A37BrjpF"
      },
      "execution_count": 1,
      "outputs": []
    },
    {
      "cell_type": "markdown",
      "source": [
        "## Create Similarity Matrix"
      ],
      "metadata": {
        "id": "QmcfRDbKsRcm"
      }
    },
    {
      "cell_type": "code",
      "source": [
        "def get_row_from_pickle_file(filename: str, row_index: int):\n",
        "    with open(filename, \"rb\") as pivot_file:\n",
        "        for cur_index in range(row_index+1):\n",
        "            row = pickle.load(pivot_file)\n",
        "            if cur_index == row_index:\n",
        "                return row\n",
        "            else:\n",
        "                pass\n",
        "    return None\n",
        "\n",
        "count = 0\n",
        "with open('./similarity.pickle', \"wb\") as similarity_file:\n",
        "    for cur_index in range(unique_no_users):\n",
        "\n",
        "        cur_feature = get_row_from_pickle_file(pivot_filename, cur_index)\n",
        "\n",
        "        with open('./pivot.pickle', \"rb\") as pivot_file:\n",
        "            cur_similarity = []\n",
        "            index = 0\n",
        "            while True:\n",
        "                chunk = []\n",
        "                for chunk_index in range(100):\n",
        "                    if index == unique_no_users:\n",
        "                        break\n",
        "                    else:\n",
        "                        feature = pickle.load(pivot_file)\n",
        "                        chunk.append(feature)\n",
        "                        index += 1\n",
        "\n",
        "                if len(chunk) != 0:\n",
        "                    chunk = np.array(chunk)\n",
        "                    mat = np.vstack((cur_feature, chunk))\n",
        "                    similarities = cosine_similarity(mat)\n",
        "\n",
        "                    for similarity in similarities[0][1:]:\n",
        "                        cur_similarity.append(similarity)\n",
        "                else:\n",
        "                    break\n",
        "\n",
        "            cur_similarity = np.array(cur_similarity)\n",
        "\n",
        "            pickle.dump(cur_similarity, similarity_file)\n",
        "            count += 1"
      ],
      "metadata": {
        "id": "25ZZOB1lsT2P"
      },
      "execution_count": null,
      "outputs": []
    },
    {
      "cell_type": "markdown",
      "source": [
        "## Store Recommendation"
      ],
      "metadata": {
        "id": "0oLwG2DVtJLr"
      }
    },
    {
      "cell_type": "code",
      "source": [
        "with open('./recommendation.pickle', \"wb\") as recommendation_file:\n",
        "    with open('./similarity.pickle', \"rb\") as similarity_file:\n",
        "        for cur_user_index in range(unique_no_users):\n",
        "            cur_user_similarity = pickle.load(similarity_file)\n",
        "\n",
        "            cur_user_sorted_indexes = cur_user_similarity.argsort()[::-1]\n",
        "\n",
        "            top_similar_users_index = cur_user_sorted_indexes[:5+1]\n",
        "\n",
        "            temp_index = np.argwhere(top_similar_users_index == cur_user_index)\n",
        "            top_similar_users_index = np.delete(top_similar_users_index, temp_index)\n",
        "\n",
        "            top_similar_user_similarity = cur_user_similarity[top_similar_users_index]\n",
        "\n",
        "            cur_user_watched_movies_index = []\n",
        "            cur_user_scores = get_row_from_pickle_file(pivot_filename, cur_user_index)\n",
        "            for index in range(unique_no_pratilipis):\n",
        "                if cur_user_scores[index] != -1:\n",
        "                    cur_user_watched_movies_index.append(index)\n",
        "\n",
        "            top_score_index_list = []\n",
        "            weight_list = []\n",
        "\n",
        "            for similar_user_index in top_similar_users_index:\n",
        "                similar_user_scores = get_row_from_pickle_file(pivot_filename, similar_user_index)\n",
        "\n",
        "                similar_user_sorted_scores_index = similar_user_scores.argsort()[::-1]\n",
        "\n",
        "                similar_user_top_scores_index = []\n",
        "                for index in similar_user_sorted_scores_index:\n",
        "                    if index not in cur_user_watched_movies_index:\n",
        "                        similar_user_top_scores_index.append(index)\n",
        "                        if len(similar_user_top_scores_index) == 5:\n",
        "                            break\n",
        "\n",
        "                similar_user_top_scores_index = np.array(similar_user_top_scores_index)\n",
        "                similar_user_top_scores = similar_user_scores[similar_user_top_scores_index]\n",
        "\n",
        "                similar_user_weights = similar_user_top_scores * cur_user_similarity[similar_user_index]\n",
        "\n",
        "                for index in similar_user_top_scores_index:\n",
        "                    top_score_index_list.append(index)\n",
        "\n",
        "                for w in similar_user_weights:\n",
        "                    weight_list.append(w)\n",
        "\n",
        "            weight_list = np.array(weight_list)\n",
        "            top_weight_index = weight_list.argsort()[::-1][:5]\n",
        "\n",
        "            top_pratilipis = [index_to_pratilipi[x] for x in top_weight_index]\n",
        "\n",
        "            pickle.dump(top_weight_index, recommendation_file)"
      ],
      "metadata": {
        "id": "fpc9BaCWtIn_"
      },
      "execution_count": null,
      "outputs": []
    },
    {
      "cell_type": "markdown",
      "source": [
        "## Evaluate the model"
      ],
      "metadata": {
        "id": "UJqEtBZSymha"
      }
    },
    {
      "cell_type": "code",
      "source": [
        "def calculate_accuracy(user_name_list: List, recommended_movies_list: List):\n",
        "    test = pd.read_csv(test_filename)\n",
        "\n",
        "    accuracy_metrics_list = []\n",
        "    for x in range(len(user_name_list)):\n",
        "        accuracy_metrics_obj = accuracy_metrics()\n",
        "        accuracy_metrics_list.append(accuracy_metrics_obj)\n",
        "\n",
        "    for index, row in test.iterrows():\n",
        "        match_index = None\n",
        "        try:\n",
        "            match_index = user_name_list.index(row[\"user_id\"])\n",
        "        except ValueError as e:\n",
        "            pass\n",
        "        if match_index is not None:\n",
        "            accuracy_metrics_list[match_index].total_test_movies_watched += 1\n",
        "            if row[\"pratilipi_id\"] in recommended_movies_list[match_index]:\n",
        "                accuracy_metrics_list[match_index].cover_count += 1\n",
        "                accuracy_metrics_list[match_index].weighted_cover += float(row[\"read_percentage\"])/100.0\n",
        "            else:\n",
        "                pass\n",
        "        else:\n",
        "            pass\n",
        "\n",
        "    for accuracy_metrics_obj in accuracy_metrics_list:\n",
        "        if accuracy_metrics_obj.total_test_movies_watched > accuracy_metrics_obj.num_recommend_movies:\n",
        "            accuracy_metrics_obj.cover_percentage = (accuracy_metrics_obj.cover_count*1.0/accuracy_metrics_obj.num_recommend_movies)*100\n",
        "            accuracy_metrics_obj.weighted_cover_percentage = (accuracy_metrics_obj.weighted_cover*1.0/accuracy_metrics_obj.num_recommend_movies)*100\n",
        "        else:\n",
        "            accuracy_metrics_obj.cover_percentage = (accuracy_metrics_obj.cover_count*1.0/accuracy_metrics_obj.total_test_movies_watched)*100\n",
        "            accuracy_metrics_obj.weighted_cover_percentage = (accuracy_metrics_obj.weighted_cover*1.0/accuracy_metrics_obj.total_test_movies_watched)*100\n",
        "\n",
        "    return accuracy_metrics_list"
      ],
      "metadata": {
        "id": "VqQwirGAyVHD"
      },
      "execution_count": null,
      "outputs": []
    },
    {
      "cell_type": "code",
      "source": [
        "test_unique_users = list(set(test_df[\"user_id\"]))\n",
        "recomended_pratilipis = get_recommendation(test_unique_users)\n",
        "\n",
        "accuracy_metrics_list = calculate_accuracy(test_unique_users, recomended_pratilipis)\n",
        "\n",
        "average_cover_percentage = 0\n",
        "weighted_cover_percentage = 0\n",
        "for accuracy_metrics_obj in accuracy_metrics_list:\n",
        "    average_cover_percentage += accuracy_metrics_obj.cover_percentage\n",
        "    weighted_cover_percentage += accuracy_metrics_obj.weighted_cover_percentage\n",
        "\n",
        "print(f'Average Cover Percentage: {average_cover_percentage}')\n",
        "print(f'Weighted Cover Percentage: {weighted_cover_percentage}')"
      ],
      "metadata": {
        "id": "BkdcRm1-xb4k"
      },
      "execution_count": null,
      "outputs": []
    }
  ]
}